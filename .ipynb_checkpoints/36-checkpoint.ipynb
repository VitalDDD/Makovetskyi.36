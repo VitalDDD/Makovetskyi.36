{
 "cells": [
  {
   "cell_type": "code",
   "execution_count": 43,
   "id": "9d78086c",
   "metadata": {},
   "outputs": [
    {
     "name": "stdout",
     "output_type": "stream",
     "text": [
      "Cross-validated scores: [0.90, 0.94, 0.95, 0.84, 0.86]\n",
      "Mean score: 0.90\n",
      "Test score: 0.95\n"
     ]
    }
   ],
   "source": [
    "import pandas as pd\n",
    "import numpy as np\n",
    "import sklearn\n",
    "from sklearn.linear_model import LinearRegression\n",
    "\n",
    "\n",
    "# Перше завдання. Проведення крос-валідації для моделі простої регресії для знаходження залежності між значеннями \n",
    "# протяжності навчання і середнього балу студентів\n",
    "\n",
    "# Читаємо файл з даними студетів\n",
    "df_student=pd.read_csv('student_scores.csv')\n",
    "\n",
    "# Готуємо дані для аналізу \n",
    "X = df_student['Hours']\n",
    "y = df_student['Scores']\n",
    "X_array = np.array(X).reshape(-1, 1)\n",
    "y_array = np.array(y)\n",
    "\n",
    "# Розділення даних на тренувальні та тестові дані\n",
    "X_train, X_test, y_train, y_test = train_test_split(X_array, y_array, test_size=0.4, random_state=42)\n",
    "\n",
    "# Обераємо 5-кратну крос-валідацію з використанням KFold тому що об'єм даних невеликий \n",
    "# та вона забезпечує більш точні результати\n",
    "kf = KFold(n_splits=5, random_state=42, shuffle=True)\n",
    "\n",
    "# Створюємо модель з даних \n",
    "LinReg = LinearRegression()\n",
    "\n",
    "# Оцінка якості моделі за допомогою крос-валідації\n",
    "scores = cross_val_score(LinReg, X_train, y_train, cv=kf)\n",
    "\n",
    "print(\"Cross-validated scores: [{:.2f}, {:.2f}, {:.2f}, {:.2f}, {:.2f}]\".format(*scores))\n",
    "print(\"Mean score: {:.2f}\".format(np.mean(scores)))\n",
    "\n",
    "# Тренування моделі на тренувальних даних\n",
    "LinReg.fit(X_train, y_train)\n",
    "\n",
    "# Оцінка якості моделі на тестових даних\n",
    "score = LinReg.score(X_test, y_test)\n",
    "\n",
    "print(\"Test score: {:.2f}\".format(score))"
   ]
  },
  {
   "cell_type": "code",
   "execution_count": 44,
   "id": "91155e79",
   "metadata": {},
   "outputs": [
    {
     "name": "stdout",
     "output_type": "stream",
     "text": [
      "Cross-validated scores: [-0.43, 0.37, -0.53, 0.39, 0.81]\n",
      "Mean score: 0.12\n",
      "Test score: 0.58\n"
     ]
    }
   ],
   "source": [
    "# Друге завдання. Проведення крос-валідації для моделі множинної регресії для знаходження залежності між значеннями \n",
    "# споживання бензину і похідними факторами\n",
    "\n",
    "# Читаємо файл з даними \n",
    "df_petrol=pd.read_csv('petrol_consumption.csv')\n",
    "\n",
    "# Готуємо дані для аналізу \n",
    "X_array = np.array(df_petrol.iloc[:, :-1])\n",
    "y_array = np.array(df_petrol.iloc[:, -1])\n",
    "\n",
    "# Розділення даних на тренувальні та тестові дані\n",
    "X_train, X_test, y_train, y_test = train_test_split(X_array, y_array, test_size=0.4, random_state=42)\n",
    "\n",
    "# Обераємо 5-кратну крос-валідацію з використанням KFold тому що об'єм даних невеликий \n",
    "# та вона забезпечує більш точні результати\n",
    "kf = KFold(n_splits=5, random_state=42, shuffle=True)\n",
    "\n",
    "# Створюємо модель з даних \n",
    "LinReg = LinearRegression()\n",
    "\n",
    "# Оцінка якості моделі за допомогою крос-валідації\n",
    "scores = cross_val_score(LinReg, X_train, y_train, cv=kf)\n",
    "\n",
    "print(\"Cross-validated scores: [{:.2f}, {:.2f}, {:.2f}, {:.2f}, {:.2f}]\".format(*scores))\n",
    "print(\"Mean score: {:.2f}\".format(np.mean(scores)))\n",
    "\n",
    "# Тренування моделі на тренувальних даних\n",
    "LinReg.fit(X_train, y_train)\n",
    "\n",
    "# Оцінка якості моделі на тестових даних\n",
    "score = LinReg.score(X_test, y_test)\n",
    "\n",
    "print(\"Test score: {:.2f}\".format(score))"
   ]
  },
  {
   "cell_type": "code",
   "execution_count": null,
   "id": "f6712761",
   "metadata": {},
   "outputs": [],
   "source": []
  }
 ],
 "metadata": {
  "kernelspec": {
   "display_name": "Python 3 (ipykernel)",
   "language": "python",
   "name": "python3"
  },
  "language_info": {
   "codemirror_mode": {
    "name": "ipython",
    "version": 3
   },
   "file_extension": ".py",
   "mimetype": "text/x-python",
   "name": "python",
   "nbconvert_exporter": "python",
   "pygments_lexer": "ipython3",
   "version": "3.9.13"
  }
 },
 "nbformat": 4,
 "nbformat_minor": 5
}
